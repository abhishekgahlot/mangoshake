{
 "cells": [
  {
   "cell_type": "code",
   "execution_count": 5,
   "metadata": {},
   "outputs": [
    {
     "name": "stdout",
     "output_type": "stream",
     "text": [
      "249 ['short' 'long' 'nothing']\n",
      "Found 249 images belonging to 3 classes.\n",
      "Found 30 images belonging to 3 classes.\n",
      "Model: \"sequential_1\"\n",
      "_________________________________________________________________\n",
      "Layer (type)                 Output Shape              Param #   \n",
      "=================================================================\n",
      "conv2d_2 (Conv2D)            (None, 298, 138, 64)      1792      \n",
      "_________________________________________________________________\n",
      "max_pooling2d_2 (MaxPooling2 (None, 149, 69, 64)       0         \n",
      "_________________________________________________________________\n",
      "flatten_1 (Flatten)          (None, 657984)            0         \n",
      "_________________________________________________________________\n",
      "dense_2 (Dense)              (None, 256)               168444160 \n",
      "_________________________________________________________________\n",
      "dense_3 (Dense)              (None, 3)                 771       \n",
      "=================================================================\n",
      "Total params: 168,446,723\n",
      "Trainable params: 168,446,723\n",
      "Non-trainable params: 0\n",
      "_________________________________________________________________\n",
      "None\n",
      "WARNING:tensorflow:sample_weight modes were coerced from\n",
      "  ...\n",
      "    to  \n",
      "  ['...']\n",
      "Train for 50 steps\n",
      "Epoch 1/5\n",
      "50/50 [==============================] - 33s 669ms/step - loss: 2055.1487 - accuracy: 0.8313\n",
      "Epoch 2/5\n",
      "50/50 [==============================] - 32s 640ms/step - loss: 36.5783 - accuracy: 0.9277\n",
      "Epoch 3/5\n",
      "50/50 [==============================] - 32s 637ms/step - loss: 4.2896 - accuracy: 0.9799\n",
      "Epoch 4/5\n",
      "50/50 [==============================] - 32s 645ms/step - loss: 2.5881 - accuracy: 0.9880\n",
      "Epoch 5/5\n",
      "50/50 [==============================] - 34s 678ms/step - loss: 0.0000e+00 - accuracy: 1.0000\n"
     ]
    },
    {
     "data": {
      "text/plain": [
       "<tensorflow.python.keras.callbacks.History at 0x650e5d610>"
      ]
     },
     "execution_count": 5,
     "metadata": {},
     "output_type": "execute_result"
    }
   ],
   "source": [
    "import tensorflow as tf\n",
    "\n",
    "import pathlib\n",
    "import IPython.display as display\n",
    "from PIL import Image\n",
    "import numpy as np\n",
    "import matplotlib.pyplot as plt\n",
    "import os\n",
    "\n",
    "data_dir = pathlib.Path('./scaled')\n",
    "test_dir = pathlib.Path('./test')\n",
    "\n",
    "image_count = len(list(data_dir.glob('*/*.png')))\n",
    "\n",
    "CLASS_NAMES = np.array([item.name for item in data_dir.glob('*') if item.name != \".DS_Store\"])\n",
    "\n",
    "print(image_count, CLASS_NAMES)\n",
    "\n",
    "image_generator = tf.keras.preprocessing.image.ImageDataGenerator()\n",
    "\n",
    "image_res = (300, 140)\n",
    "\n",
    "BATCH_SIZE = 5\n",
    "IMG_HEIGHT = 140\n",
    "IMG_WIDTH = 300\n",
    "STEPS_PER_EPOCH = np.ceil(image_count/BATCH_SIZE)\n",
    "\n",
    "train_data_gen = image_generator.flow_from_directory(directory=str(data_dir),\n",
    "                                                     batch_size=BATCH_SIZE,\n",
    "                                                     shuffle=True,\n",
    "                                                     target_size=(IMG_HEIGHT, IMG_WIDTH),\n",
    "                                                     classes = list(CLASS_NAMES), class_mode=\"sparse\")\n",
    "\n",
    "test_it_gen = image_generator.flow_from_directory(directory=str(test_dir),\n",
    "                                                     batch_size=BATCH_SIZE,\n",
    "                                                     shuffle=True,\n",
    "                                                     target_size=(IMG_HEIGHT, IMG_WIDTH),\n",
    "                                                     classes = list(CLASS_NAMES), class_mode=\"sparse\")\n",
    "\n",
    "model = tf.keras.models.Sequential([\n",
    "\ttf.keras.layers.Conv2D(64, (3,3), activation='relu', input_shape=(IMG_WIDTH, IMG_HEIGHT, 3)),\n",
    "\ttf.keras.layers.MaxPooling2D(2, 2),\n",
    "\ttf.keras.layers.Flatten(),\n",
    "\ttf.keras.layers.Dense(256, activation=tf.nn.relu),\n",
    "\ttf.keras.layers.Dense(3, activation=tf.nn.softmax)\n",
    "])\n",
    "\n",
    "print(model.summary())\n",
    "model.compile(optimizer='adam',\n",
    "\t\t\t\t\t\t\tloss='sparse_categorical_crossentropy',\n",
    "\t\t\t\t\t\t\tmetrics=['accuracy'])\n",
    "model.fit(train_data_gen, epochs=5)"
   ]
  },
  {
   "cell_type": "code",
   "execution_count": 8,
   "metadata": {},
   "outputs": [
    {
     "name": "stdout",
     "output_type": "stream",
     "text": [
      "WARNING:tensorflow:sample_weight modes were coerced from\n",
      "  ...\n",
      "    to  \n",
      "  ['...']\n",
      "6/6 [==============================] - 0s 82ms/step - loss: 678.5180 - accuracy: 0.6000\n",
      "[678.5180460611979, 0.6]\n"
     ]
    }
   ],
   "source": [
    "print(model.evaluate(test_it_gen, verbose=1))"
   ]
  },
  {
   "cell_type": "code",
   "execution_count": 9,
   "metadata": {},
   "outputs": [
    {
     "name": "stdout",
     "output_type": "stream",
     "text": [
      "['loss', 'accuracy']\n"
     ]
    }
   ],
   "source": [
    "print(model.metrics_names)\n"
   ]
  },
  {
   "cell_type": "code",
   "execution_count": null,
   "metadata": {},
   "outputs": [],
   "source": []
  }
 ],
 "metadata": {
  "kernelspec": {
   "display_name": "Python 3",
   "language": "python",
   "name": "python3"
  },
  "language_info": {
   "codemirror_mode": {
    "name": "ipython",
    "version": 3
   },
   "file_extension": ".py",
   "mimetype": "text/x-python",
   "name": "python",
   "nbconvert_exporter": "python",
   "pygments_lexer": "ipython3",
   "version": "3.7.6"
  }
 },
 "nbformat": 4,
 "nbformat_minor": 4
}
